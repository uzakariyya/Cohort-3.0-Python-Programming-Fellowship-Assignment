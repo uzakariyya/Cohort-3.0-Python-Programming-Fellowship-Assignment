{
 "cells": [
  {
   "cell_type": "markdown",
   "metadata": {},
   "source": [
    "\n",
    "# Assignment Seven\n",
    "\n",
    "### Classes and Object - Module 16\n",
    "##### (Defining classes, attributes, methods, and working with objects)\n",
    "\n",
    "\n",
    "## Module 16: \n",
    "### Exercise\n",
    "\n",
    "##### Module 16 (Classes and Object)\n"
   ]
  },
  {
   "cell_type": "markdown",
   "metadata": {
    "vscode": {
     "languageId": "plaintext"
    }
   },
   "source": [
    "## 💻 Exercises: Classes and Object\n",
    "### Exercises: Level 1"
   ]
  },
  {
   "cell_type": "code",
   "execution_count": 1,
   "metadata": {},
   "outputs": [
    {
     "name": "stdout",
     "output_type": "stream",
     "text": [
      "Count: 25\n",
      "Sum:  744\n",
      "Min:  24\n",
      "Max:  38\n",
      "Range:  14\n",
      "Mean:  29.76\n",
      "Median:  29\n",
      "Mode:  {'mode': 26, 'count': 5}\n",
      "Standard Deviation:  4.188364836066696\n",
      "Variance:  17.5424\n",
      "Frequency Distribution:  [(8.0, 24), (4.0, 25), (20.0, 26), (16.0, 27), (4.0, 29), (8.0, 31), (12.0, 32), (8.0, 33), (8.0, 34), (8.0, 37), (4.0, 38)]\n",
      "{'Count': 25, 'Sum': 744, 'Min': 24, 'Max': 38, 'Range': 14, 'Mean': 29.76, 'Median': 29, 'Mode': {'mode': 26, 'count': 5}, 'Variance': 17.5424, 'Standard Deviation': 4.188364836066696, 'Frequency Distribution': [(8.0, 24), (4.0, 25), (20.0, 26), (16.0, 27), (4.0, 29), (8.0, 31), (12.0, 32), (8.0, 33), (8.0, 34), (8.0, 37), (4.0, 38)]}\n"
     ]
    }
   ],
   "source": [
    "class Statistics:\n",
    "    def __init__(self, data):\n",
    "        self.data = data\n",
    "    \n",
    "    def count(self):\n",
    "        return len(self.data)\n",
    "    \n",
    "    def sum(self):\n",
    "        return sum(self.data)\n",
    "    \n",
    "    def min(self):\n",
    "        return min(self.data)\n",
    "    \n",
    "    def max(self):\n",
    "        return max(self.data)\n",
    "    \n",
    "    def range(self):\n",
    "        return self.max() - self.min()\n",
    "    \n",
    "    def mean(self):\n",
    "        return self.sum() / self.count()\n",
    "    \n",
    "    def median(self):\n",
    "        sorted_data = sorted(self.data)\n",
    "        n = self.count()\n",
    "        middle = n // 2\n",
    "        if n % 2 == 0:\n",
    "            return (sorted_data[middle - 1] + sorted_data[middle]) / 2\n",
    "        else:\n",
    "            return sorted_data[middle]\n",
    "    \n",
    "    def mode(self):\n",
    "        from collections import Counter\n",
    "        freq = Counter(self.data)\n",
    "        mode_value = max(freq, key=freq.get)\n",
    "        return {\"mode\": mode_value, \"count\": freq[mode_value]}\n",
    "    \n",
    "    def variance(self):\n",
    "        mean = self.mean()\n",
    "        return sum((x - mean) ** 2 for x in self.data) / self.count()\n",
    "    \n",
    "    def std(self):\n",
    "        return self.variance() ** 0.5\n",
    "    \n",
    "    def freq_dist(self):\n",
    "        from collections import Counter\n",
    "        freq = Counter(self.data)\n",
    "        return [(freq[key] / self.count() * 100, key) for key in sorted(freq)]\n",
    "    \n",
    "    def describe(self):\n",
    "        description = {\n",
    "            \"Count\": self.count(),\n",
    "            \"Sum\": self.sum(),\n",
    "            \"Min\": self.min(),\n",
    "            \"Max\": self.max(),\n",
    "            \"Range\": self.range(),\n",
    "            \"Mean\": self.mean(),\n",
    "            \"Median\": self.median(),\n",
    "            \"Mode\": self.mode(),\n",
    "            \"Variance\": self.variance(),\n",
    "            \"Standard Deviation\": self.std(),\n",
    "            \"Frequency Distribution\": self.freq_dist(),\n",
    "        }\n",
    "        return description\n",
    "ages = [31, 26, 34, 37, 27, 26, 32, 32, 26, 27, 27, 24, 32, 33, 27, 25, 26, 38, 37, 31, 34, 24, 33, 29, 26]\n",
    "\n",
    "data = Statistics(ages)\n",
    "\n",
    "print('Count:', data.count())\n",
    "print('Sum: ', data.sum())\n",
    "print('Min: ', data.min())\n",
    "print('Max: ', data.max())\n",
    "print('Range: ', data.range())\n",
    "print('Mean: ', data.mean())\n",
    "print('Median: ', data.median())\n",
    "print('Mode: ', data.mode())\n",
    "print('Standard Deviation: ', data.std())\n",
    "print('Variance: ', data.variance())\n",
    "print('Frequency Distribution: ', data.freq_dist())\n",
    "\n",
    "# Describe output\n",
    "print(data.describe())\n"
   ]
  },
  {
   "cell_type": "markdown",
   "metadata": {},
   "source": [
    "### Exercises: Level 2"
   ]
  },
  {
   "cell_type": "code",
   "execution_count": 3,
   "metadata": {},
   "outputs": [
    {
     "name": "stdout",
     "output_type": "stream",
     "text": [
      "Total Income: 6500\n",
      "Total Expense: 1700\n",
      "Account Balance: 4800\n",
      "Account Info: Umar Zakariyya, Total Income: 6500, Total Expense: 1700, Balance: 4800\n"
     ]
    }
   ],
   "source": [
    "class PersonAccount:\n",
    "    def __init__(self, firstname, lastname):\n",
    "        self.firstname = firstname\n",
    "        self.lastname = lastname\n",
    "        self.incomes = {}\n",
    "        self.expenses = {}\n",
    "    \n",
    "    def total_income(self):\n",
    "        return sum(self.incomes.values())\n",
    "    \n",
    "    def total_expense(self):\n",
    "        return sum(self.expenses.values())\n",
    "    \n",
    "    def account_info(self):\n",
    "        return f\"{self.firstname} {self.lastname}, Total Income: {self.total_income()}, Total Expense: {self.total_expense()}, Balance: {self.account_balance()}\"\n",
    "    \n",
    "    def add_income(self, description, amount):\n",
    "        self.incomes[description] = self.incomes.get(description, 0) + amount\n",
    "    \n",
    "    def add_expense(self, description, amount):\n",
    "        self.expenses[description] = self.expenses.get(description, 0) + amount\n",
    "    \n",
    "    def account_balance(self):\n",
    "        return self.total_income() - self.total_expense()\n",
    "\n",
    "\n",
    "account = PersonAccount('Umar','Zakariyya')\n",
    "\n",
    "account.add_income(\"Salary\", 5000)\n",
    "account.add_income(\"Freelance\", 1500)\n",
    "account.add_expense(\"Rent\", 1200)\n",
    "account.add_expense(\"Groceries\", 300)\n",
    "account.add_expense(\"Utilities\", 200)\n",
    "\n",
    "print(\"Total Income:\", account.total_income())\n",
    "print(\"Total Expense:\", account.total_expense())\n",
    "print(\"Account Balance:\", account.account_balance())\n",
    "print(\"Account Info:\", account.account_info())\n",
    "\n"
   ]
  }
 ],
 "metadata": {
  "kernelspec": {
   "display_name": "base",
   "language": "python",
   "name": "python3"
  },
  "language_info": {
   "codemirror_mode": {
    "name": "ipython",
    "version": 3
   },
   "file_extension": ".py",
   "mimetype": "text/x-python",
   "name": "python",
   "nbconvert_exporter": "python",
   "pygments_lexer": "ipython3",
   "version": "3.7.3"
  }
 },
 "nbformat": 4,
 "nbformat_minor": 2
}
