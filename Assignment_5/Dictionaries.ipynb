{
 "cells": [
  {
   "cell_type": "markdown",
   "metadata": {},
   "source": [
    "# Assignment Five \n",
    "\n",
    "### Dictionaries (Creating and using dictionaries, basic operations, looping through dictionaries)\n",
    "\n",
    "## Dictionaries\n",
    "\n",
    "##### (Dictionaries Exercise)\n",
    "\n"
   ]
  },
  {
   "cell_type": "code",
   "execution_count": 1,
   "metadata": {},
   "outputs": [
    {
     "name": "stdout",
     "output_type": "stream",
     "text": [
      "{}\n",
      "{'name': 'Gen Star', 'color': 'Brown', 'breed': 'Labroder', 'leg': 4, 'age': 6}\n",
      "{'first_name': 'Umar', 'last_name': 'Zakariyya Muhammad', 'gender': 'Male', 'age': 25, 'marital_status': 'Single', 'skills': ['Python', 'Java Script', 'SQL'], 'country': 'Nigeria', 'city': 'Bauchi', 'address': {'House_No': 'No. 2', 'street': 'Isa Yuguda Crescent Bauchi'}}\n",
      "dict_keys(['first_name', 'last_name', 'gender', 'age', 'marital_status', 'skills', 'country', 'city', 'address'])\n",
      "dict_values(['Umar', 'Zakariyya Muhammad', 'Male', 25, 'Single', ['Python', 'Java Script', 'SQL'], 'Nigeria', 'Bauchi', {'House_No': 'No. 2', 'street': 'Isa Yuguda Crescent Bauchi'}])\n",
      "9\n",
      "<class 'list'>\n",
      "Skills: ['Python', 'Java Script', 'SQL']\n",
      "Data type of skills: <class 'list'>\n",
      "First Updated Skills: ['Python', 'Java Script', 'SQL', 'C##']\n",
      "Second Updated Skills: ['Python', 'Java Script', 'SQL', 'C##', 'Machine Learning', 'Power BI']\n",
      "['Python', 'Java Script', 'SQL', 'C##', 'Machine Learning', 'Power BI']\n",
      "The Dictionary Keys: dict_keys(['first_name', 'last_name', 'gender', 'age', 'marital_status', 'skills', 'country', 'city', 'address'])\n",
      "dict_values(['Umar', 'Zakariyya Muhammad', 'Male', 25, 'Single', ['Python', 'Java Script', 'SQL', 'C##', 'Machine Learning', 'Power BI'], 'Nigeria', 'Bauchi', {'House_No': 'No. 2', 'street': 'Isa Yuguda Crescent Bauchi'}])\n",
      "The Values Keys: dict_values(['Umar', 'Zakariyya Muhammad', 'Male', 25, 'Single', ['Python', 'Java Script', 'SQL', 'C##', 'Machine Learning', 'Power BI'], 'Nigeria', 'Bauchi', {'House_No': 'No. 2', 'street': 'Isa Yuguda Crescent Bauchi'}])\n",
      "dict_items([('first_name', 'Umar'), ('last_name', 'Zakariyya Muhammad'), ('gender', 'Male'), ('age', 25), ('marital_status', 'Single'), ('skills', ['Python', 'Java Script', 'SQL', 'C##', 'Machine Learning', 'Power BI']), ('country', 'Nigeria'), ('city', 'Bauchi'), ('address', {'House_No': 'No. 2', 'street': 'Isa Yuguda Crescent Bauchi'})])\n",
      "The Dictionaries as List of Tuple: dict_items([('first_name', 'Umar'), ('last_name', 'Zakariyya Muhammad'), ('gender', 'Male'), ('age', 25), ('marital_status', 'Single'), ('skills', ['Python', 'Java Script', 'SQL', 'C##', 'Machine Learning', 'Power BI']), ('country', 'Nigeria'), ('city', 'Bauchi'), ('address', {'House_No': 'No. 2', 'street': 'Isa Yuguda Crescent Bauchi'})])\n",
      "This is the Updated Dictionaries without Skill: {'first_name': 'Umar', 'last_name': 'Zakariyya Muhammad', 'gender': 'Male', 'age': 25, 'marital_status': 'Single', 'country': 'Nigeria', 'city': 'Bauchi', 'address': {'House_No': 'No. 2', 'street': 'Isa Yuguda Crescent Bauchi'}}\n",
      "The Delete Function for the entire Dictionaries: Student which indicate the Variable doesn't exist\n"
     ]
    }
   ],
   "source": [
    "#1Create an empty dictionary called dog\n",
    "dog = {}\n",
    "print(dog)\n",
    "\n",
    "#2Add name, color, breed, legs, age to the dog dictionary\n",
    "dog = {'name':'Gen Star', 'color':'Brown', 'breed':'Labroder', 'leg':4, 'age':6}\n",
    "dog ['name'] = 'Gen Star'\n",
    "print(dog)\n",
    "\n",
    "#3Create a student dictionary and add first_name, last_name, gender, age, marital status, skills, country, city and address as keys for the dictionary\n",
    "Student = {'first_name':'Umar', 'last_name':'Zakariyya Muhammad', 'gender':'Male', 'age': 25, 'marital_status':'Single', 'skills':['Python', 'Java Script','SQL'], 'country': 'Nigeria', 'city':'Bauchi', 'address':{'House_No':'No. 2','street':'Isa Yuguda Crescent Bauchi'}}\n",
    "print(Student)\n",
    "print(Student.keys())\n",
    "print(Student.values())\n",
    "\n",
    "#4Get the length of the student dictionary\n",
    "print(len(Student))\n",
    "\n",
    "#5Get the value of skills and check the data type, it should be a list\n",
    "print(type(Student[\"skills\"]))\n",
    "skills = Student[\"skills\"]\n",
    "print(f'Skills: {skills}')\n",
    "print(f'Data type of skills: {type(skills)}')\n",
    "\n",
    "#6Modify the skills values by adding one or two skills\n",
    "\n",
    "Student['skills'].append('C##')\n",
    "print(f'First Updated Skills: {Student['skills']}')\n",
    "Student[\"skills\"].extend(['Machine Learning', 'Power BI'])\n",
    "print(f\"Second Updated Skills: {Student['skills']}\")\n",
    "print(Student['skills'])\n",
    "\n",
    "#7Get the dictionary keys as a list\n",
    "print(f'The Dictionary Keys: {Student.keys()}')\n",
    "print(Student.values())\n",
    "\n",
    "#8Get the dictionary values as a list\n",
    "print(f'The Values Keys: {Student.values()}')\n",
    "\n",
    "#9Change the dictionary to a list of tuples using items() method\n",
    "\n",
    "print(Student.items())\n",
    "print(f'The Dictionaries as List of Tuple: {Student.items()}')\n",
    "\n",
    "#10Delete one of the items in the dictionary\n",
    "del Student['skills']\n",
    "print(f'This is the Updated Dictionaries without Skill: {Student}')\n",
    "\n",
    "del Student\n",
    "\n",
    "print(f\"The Delete Function for the entire Dictionaries: Student which indicate the Variable doesn't exist\")"
   ]
  }
 ],
 "metadata": {
  "kernelspec": {
   "display_name": "Python 3",
   "language": "python",
   "name": "python3"
  },
  "language_info": {
   "codemirror_mode": {
    "name": "ipython",
    "version": 3
   },
   "file_extension": ".py",
   "mimetype": "text/x-python",
   "name": "python",
   "nbconvert_exporter": "python",
   "pygments_lexer": "ipython3",
   "version": "3.12.8"
  }
 },
 "nbformat": 4,
 "nbformat_minor": 2
}
