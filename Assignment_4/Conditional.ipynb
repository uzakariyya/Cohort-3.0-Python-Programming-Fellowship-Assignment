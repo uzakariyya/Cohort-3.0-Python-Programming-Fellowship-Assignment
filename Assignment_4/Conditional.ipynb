{
 "cells": [
  {
   "cell_type": "markdown",
   "metadata": {},
   "source": [
    "# Assignment Four\n",
    "\n",
    "### if Statements (Conditional tests, if-elif-else structures, boolean expressions)\n",
    "\n",
    "## Module 7: Conditional \n",
    "### Exercise\n",
    "\n",
    "\n"
   ]
  },
  {
   "cell_type": "markdown",
   "metadata": {},
   "source": [
    "💻 Conditionals Exercises\n"
   ]
  },
  {
   "cell_type": "markdown",
   "metadata": {},
   "source": [
    "##### Level 1"
   ]
  },
  {
   "cell_type": "code",
   "execution_count": 101,
   "metadata": {},
   "outputs": [
    {
     "name": "stdout",
     "output_type": "stream",
     "text": [
      "Wait for the missing amount of years to learn to drive.!\n"
     ]
    }
   ],
   "source": [
    "#1 Get user input using input(“Enter your age: ”). If user is 18 or older, give feedback: You are old enough to drive. If below 18 give feedback to wait for the missing amount of years. Output:\n",
    "\n",
    "age = 17\n",
    "if age >= 18:\n",
    "    print('You are old enough to learn how to drive!')\n",
    "else:\n",
    "    age <= 18\n",
    "    print('Wait for the missing amount of years to learn to drive.!')"
   ]
  },
  {
   "cell_type": "code",
   "execution_count": 1,
   "metadata": {},
   "outputs": [
    {
     "name": "stdout",
     "output_type": "stream",
     "text": [
      "No, I'm older than you!\n"
     ]
    }
   ],
   "source": [
    "#2 Compare the values of my_age and your_age using if … else. Who is older (me or you)? Use input(“Enter your age: ”) to get the age as input. You can use a nested condition to print 'year' for 1 year difference in age, 'years' for bigger differences, and a custom text if my_age = your_age. Output:\n",
    "\n",
    "my_age = 25\n",
    "your_age = int(input('What is your Age:'))\n",
    "\n",
    "if your_age >= my_age:\n",
    "    print('Yes, You are older than me!')\n",
    "else:\n",
    "    my_age >= your_age\n",
    "    print(\"No, I'm older than you!\")\n",
    "\n",
    "\n"
   ]
  },
  {
   "cell_type": "code",
   "execution_count": null,
   "metadata": {},
   "outputs": [
    {
     "name": "stdout",
     "output_type": "stream",
     "text": [
      "No, A is less than B!\n"
     ]
    }
   ],
   "source": [
    "#3 Get two numbers from the user using input prompt. If a is greater than b return a is greater than b, if a is less b return a is smaller than b, else a is equal to b. Output:\n",
    "\n",
    "a = int(input('Plesae Press any Number for A'))\n",
    "b = int(input('Plesae Press any Number for B'))\n",
    "if a > b:\n",
    "    print('Yes, A is greater than B,!')\n",
    "elif a < b:\n",
    "    print('No, A is less than B!')\n",
    "elif a == b:\n",
    "    print('Yes, A is equal to b B!')\n",
    "else:\n",
    "    print('You Provided an Invalid entries!')\n",
    "    "
   ]
  },
  {
   "cell_type": "markdown",
   "metadata": {},
   "source": [
    "#### Exercises: Level 2"
   ]
  },
  {
   "cell_type": "code",
   "execution_count": 100,
   "metadata": {},
   "outputs": [
    {
     "name": "stdout",
     "output_type": "stream",
     "text": [
      "Your Grade is D!\n"
     ]
    }
   ],
   "source": [
    "#1 Write a code which gives grade to students according to theirs scores:\n",
    "#80-100, A\n",
    "#70-89, B\n",
    "#60-69, C\n",
    "#50-59, D\n",
    "#0-49, F\n",
    "\n",
    "score = 53\n",
    "if 80 <= score <= 100:\n",
    "        print ('Your Grade is A!')\n",
    "elif 70 <= score <= 89:\n",
    "        print ('Your Grade is B!')\n",
    "elif 60 <= score <= 69:\n",
    "        print ('Your Grade is C!')\n",
    "elif 50 <= score <= 59:\n",
    "        print ('Your Grade is D!')\n",
    "elif 0 <= score <= 49:\n",
    "        print ('Your Grade is F!')\n",
    "else:\n",
    "        print('You Provided an Invalid Entries!')\n"
   ]
  },
  {
   "cell_type": "code",
   "execution_count": null,
   "metadata": {},
   "outputs": [
    {
     "name": "stdout",
     "output_type": "stream",
     "text": [
      "Hey, You Provided a wrong Month!\n"
     ]
    }
   ],
   "source": [
    "#1 Check if the season is Autumn, Winter, Spring or Summer. If the user input is: September, October or November, the season is Autumn. December, January or February, the season is Winter. March, April or May, the season is Spring June, July or August, the season is Summer\n",
    "\n",
    "user_input = (input('Please Enter the Month'))\n",
    "if user_input in ['September', 'October' , 'November']:\n",
    "    print('Hey, We are in Autumn Season!')\n",
    "elif user_input in ['December', 'January', 'February']:\n",
    "    print('Hey, We are in Winter Season!')\n",
    "elif user_input in ['March', 'April', 'May']:\n",
    "    print('Hey, We are in Spring Season!')\n",
    "elif user_input in ['June', 'July', 'August']:\n",
    "    print('Hey, We are in Summer Season!')\n",
    "else: \n",
    "    print('Hey, You Provided a wrong Month!')"
   ]
  },
  {
   "cell_type": "code",
   "execution_count": null,
   "metadata": {},
   "outputs": [
    {
     "name": "stdout",
     "output_type": "stream",
     "text": [
      "The modifeid Fruit List is:['banana', 'orange', 'mango', 'lemon', '']\n"
     ]
    }
   ],
   "source": [
    "#3 The following list contains some fruits:\n",
    "\n",
    "#If a fruit doesn't exist in the list add the fruit to the list and print the modified list. If the fruit exists print('That fruit already exist in the list')\n",
    "\n",
    "fruits = ['banana', 'orange', 'mango', 'lemon']\n",
    "\n",
    "fruit_add = (input('Fruit Name'))\n",
    "\n",
    "if fruit_add not in fruits:\n",
    "    fruits.append(fruit_add)\n",
    "    print(f'The modifeid Fruit List is:{fruits}')\n",
    "else: \n",
    "    print(f'The Fruit already exist!')\n"
   ]
  },
  {
   "cell_type": "markdown",
   "metadata": {},
   "source": [
    "##### Level 3"
   ]
  },
  {
   "cell_type": "code",
   "execution_count": 125,
   "metadata": {},
   "outputs": [
    {
     "name": "stdout",
     "output_type": "stream",
     "text": [
      "The middle skill is: Node\n",
      "Does the Person has Python Skills? True\n",
      "He is a backend developer.\n"
     ]
    }
   ],
   "source": [
    "#3 Here we have a person dictionary. Feel free to modify it!\n",
    "\n",
    "person={\n",
    "    'first_name': 'Asabeneh',\n",
    "    'last_name': 'Yetayeh',\n",
    "    'age': 250,\n",
    "    'country': 'Finland',\n",
    "    'is_marred': True,\n",
    "    'skills': ['JavaScript', 'React', 'Node', 'MongoDB', 'Python'],\n",
    "    'address': {\n",
    "        'street': 'Space street',\n",
    "        'zipcode': '02210'\n",
    "    }\n",
    "    }\n",
    "\n",
    "#Check if the person dictionary has skills key, if so print out the middle skill in the skills list.\n",
    "if 'skills' in person:\n",
    "    skills_list = person['skills']\n",
    "    middle_skills = len(skills_list) // 2\n",
    "    print(f\"The middle skill is: {skills_list[middle_skills]}\")\n",
    "\n",
    "#Check if the person dictionary has skills key, if so check if the person has 'Python' skill and print out the result.\n",
    "\n",
    "Python_Check = 'Python' in skills_list\n",
    "print(f'Does the Person has Python Skills? {Python_Check}')\n",
    "\n",
    "#If a person skills has only JavaScript and React, print('He is a front end developer'), if the person skills has Node, Python, MongoDB, print('He is a backend developer'), if the person skills has React, Node and MongoDB, Print('He is a fullstack developer'), else print('unknown title') - for more accurate results more conditions can be nested!\n",
    "\n",
    "if set(skills_list) == {'JavaScript', 'React'}:\n",
    "        print('He is a front end developer.')\n",
    "elif {'Node', 'Python', 'MongoDB'}.issubset(skills_list):\n",
    "        print('He is a backend developer.')\n",
    "elif {'React', 'Node', 'MongoDB'}.issubset(skills_list):\n",
    "        print('He is a fullstack developer.')\n",
    "else:\n",
    "    print('Unknown title.')\n",
    "\n",
    "\n",
    "#If the person is married and if he lives in Finland, print the information in the following format:\n",
    "\n",
    "\n"
   ]
  },
  {
   "cell_type": "code",
   "execution_count": 135,
   "metadata": {},
   "outputs": [
    {
     "name": "stdout",
     "output_type": "stream",
     "text": [
      "Asabeneh Yetayeh lives in Finland. He is married.\n"
     ]
    }
   ],
   "source": [
    "person={\n",
    "    'first_name': 'Asabeneh',\n",
    "    'last_name': 'Yetayeh',\n",
    "    'age': 250,\n",
    "    'country': 'Finland',\n",
    "    'is_marred': True,\n",
    "    'skills': ['JavaScript', 'React', 'Node', 'MongoDB', 'Python'],\n",
    "    'address': {\n",
    "        'street': 'Space street',\n",
    "        'zipcode': '02210'\n",
    "    }\n",
    "    }\n",
    "\n",
    "if person.get('is_marred') and person.get('country') == 'Finland':\n",
    "      print(f\"{person['first_name']} {person['last_name']} lives in {person['country']}. He is married.\")"
   ]
  }
 ],
 "metadata": {
  "kernelspec": {
   "display_name": "Python 3",
   "language": "python",
   "name": "python3"
  },
  "language_info": {
   "codemirror_mode": {
    "name": "ipython",
    "version": 3
   },
   "file_extension": ".py",
   "mimetype": "text/x-python",
   "name": "python",
   "nbconvert_exporter": "python",
   "pygments_lexer": "ipython3",
   "version": "3.12.8"
  }
 },
 "nbformat": 4,
 "nbformat_minor": 2
}
