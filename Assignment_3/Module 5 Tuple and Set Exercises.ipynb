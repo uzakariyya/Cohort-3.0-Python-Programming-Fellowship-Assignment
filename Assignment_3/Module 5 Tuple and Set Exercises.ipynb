{
 "cells": [
  {
   "cell_type": "markdown",
   "metadata": {},
   "source": [
    "# Assignment Three \n",
    "\n",
    "#### Working with Lists (Looping through lists, modifying elements)\n",
    "\n",
    "#### Module 5 (Tuple and Set Exercise)"
   ]
  },
  {
   "cell_type": "markdown",
   "metadata": {},
   "source": [
    "### Tuple Exercises\n",
    "#### Tuple Exercises: Level 1"
   ]
  },
  {
   "cell_type": "code",
   "execution_count": 45,
   "metadata": {},
   "outputs": [
    {
     "name": "stdout",
     "output_type": "stream",
     "text": [
      "()\n",
      "This is () the Sign of Empty Tuple\n",
      "('Ola', 'Hamid', 'Aliyu', 'Usman')\n",
      "('Fatima', 'Sofiat', 'Rodiat', 'Kamilat')\n",
      "('Ola', 'Hamid', 'Aliyu', 'Usman', 'Fatima', 'Sofiat', 'Rodiat', 'Kamilat')\n",
      "8\n",
      "('Ola', 'Hamid', 'Aliyu', 'Usman', 'Fatima', 'Sofiat', 'Rodiat', 'Kamilat', 'Abdullahi', 'Hajara')\n"
     ]
    }
   ],
   "source": [
    "#1Create an empty tuple\n",
    "Empty_Tuple = ()\n",
    "print(Empty_Tuple)\n",
    "print(f'This is {Empty_Tuple} the Sign of Empty Tuple')\n",
    "\n",
    "#2Create a tuple containing names of your sisters and your brothers (imaginary siblings are fine)\n",
    "Brother = ('Ola', 'Hamid', 'Aliyu', 'Usman')\n",
    "Sister = ('Fatima', 'Sofiat', 'Rodiat', 'Kamilat')\n",
    "print(Brother)\n",
    "print(Sister)\n",
    "Siblings = Brother + Sister\n",
    "print(Siblings)\n",
    "\n",
    "#3How many siblings do you have?\n",
    "List_of_Sibling = len(Siblings)\n",
    "print(List_of_Sibling)\n",
    "\n",
    "#4Modify the siblings tuple and add the name of your father and mother and assign it to family_members\n",
    "\n",
    "Family = Siblings + ('Abdullahi', 'Hajara')\n",
    "print(Family)\n",
    "\n"
   ]
  },
  {
   "cell_type": "markdown",
   "metadata": {},
   "source": [
    "### Tuple Exercises\n",
    "#### Tuple Exercises: Level 2\n"
   ]
  },
  {
   "cell_type": "code",
   "execution_count": 46,
   "metadata": {},
   "outputs": [
    {
     "name": "stdout",
     "output_type": "stream",
     "text": [
      "Abdullahi\n",
      "Hajara\n",
      "['Ola', 'Hamid', 'Aliyu', 'Usman', 'Fatima', 'Sofiat', 'Rodiat', 'Kamilat']\n",
      "('Orange', 'Mango', 'Lime', 'Apple', 'Spinach', 'Carrot', 'Tomatoes', 'Pepper', 'Milk', 'Butter', 'Cheese', 'Beef')\n",
      "['Orange', 'Mango', 'Lime', 'Apple', 'Spinach', 'Carrot', 'Tomatoes', 'Pepper', 'Milk', 'Butter', 'Cheese', 'Beef']\n",
      "Tomatoes\n",
      "['Orange', 'Mango', 'Lime']\n",
      "['Butter', 'Cheese', 'Beef']\n",
      "This name Food Stuff is not defined.\n",
      "Which means Food_Stuff has been deleted with variable del!\n",
      "False\n",
      "No, Estonia doesn't exist in nordic Countries!\n",
      "True\n",
      "Yes, Iceland exist in nordic Countries!\n"
     ]
    }
   ],
   "source": [
    "1#Unpack siblings and parents from family_members\n",
    "\n",
    "*Sibling1, Father, Mother = Family\n",
    "print(Father)\n",
    "print(Mother)\n",
    "print(Sibling1)\n",
    "\n",
    "#2Create fruits, vegetables and animal products tuples. Join the three tuples and assign it to a variable called food_stuff_tp.\n",
    "\n",
    "Fruits = ('Orange', 'Mango', 'Lime', 'Apple')\n",
    "Vegetable = ('Spinach', 'Carrot', 'Tomatoes','Pepper')\n",
    "Animal_Product = ('Milk', 'Butter', 'Cheese', 'Beef')\n",
    "Food_Stuff = Fruits + Vegetable + Animal_Product\n",
    "print(Food_Stuff)\n",
    "\n",
    "#3Change the about food_stuff_tp tuple to a food_stuff_lt list\n",
    "Food_Stuff_List = list(Food_Stuff)\n",
    "print(Food_Stuff_List)\n",
    "\n",
    "#4Slice out the middle item or items from the food_stuff_tp tuple or food_stuff_lt list.\n",
    "\n",
    "Food_Stuff_List_Mid = len(Food_Stuff_List) // 2\n",
    "print(Food_Stuff_List[Food_Stuff_List_Mid])\n",
    "\n",
    "#5Slice out the first three items and the last three items from food_staff_lt list\n",
    "\n",
    "Food_Stuff_List_First_Three = Food_Stuff_List[0:3]\n",
    "print(Food_Stuff_List_First_Three)\n",
    "\n",
    "Food_Stuff_List_Last_Three = Food_Stuff_List[-3:]\n",
    "print(Food_Stuff_List_Last_Three)\n",
    "\n",
    "#6Delete the food_staff_tp tuple completely\n",
    "del Food_Stuff\n",
    "#print(Food_Stuff)\n",
    "print(f'This name Food Stuff is not defined.\\nWhich means Food_Stuff has been deleted with variable del!')\n",
    "\n",
    "#7Check if an item exists in tuple:\n",
    "#Check if 'Estonia' is a nordic country\n",
    "#Check if 'Iceland' is a nordic country\n",
    "nordic_countries = ('Denmark', 'Finland','Iceland', 'Norway', 'Sweden')\n",
    "\n",
    "Check_1 = 'Estonia' in nordic_countries\n",
    "print(Check_1)\n",
    "\n",
    "if  'Estonia' in nordic_countries:\n",
    "    print(f'Yes, Estonia exist in nordic Countries!')\n",
    "else:\n",
    "    print(f\"No, Estonia doesn't exist in nordic Countries!\")\n",
    "\n",
    "Check_2 = 'Iceland' in nordic_countries\n",
    "print(Check_2)\n",
    "\n",
    "if  'Iceland' in nordic_countries:\n",
    "    print(f'Yes, Iceland exist in nordic Countries!')\n",
    "else:\n",
    "    print(f\"No, Iceland doesn't exist in nordic Countries!\")\n"
   ]
  },
  {
   "cell_type": "markdown",
   "metadata": {},
   "source": [
    "### Set Exercises\n",
    "#### Set Exercises: Level 1"
   ]
  },
  {
   "cell_type": "code",
   "execution_count": 47,
   "metadata": {},
   "outputs": [
    {
     "name": "stdout",
     "output_type": "stream",
     "text": [
      "7\n",
      "{'Amazon', 'Facebook', 'Oracle', 'Google', 'IBM', 'Microsoft', 'Apple'}\n",
      "{'Amazon', 'Facebook', 'Oracle', 'Google', 'Twitter', 'IBM', 'Microsoft', 'Apple'}\n",
      "{'SpaceFox', 'Facebook', 'Google', 'Twitter', 'IBM', 'Geo Data Solution', 'Microsoft', 'Amazon', 'ConniSoft', 'Oracle', 'Apple'}\n",
      "{'SpaceFox', 'Facebook', 'Google', 'Twitter', 'IBM', 'Geo Data Solution', 'Microsoft', 'Amazon', 'ConniSoft', 'Apple'}\n",
      "Remove: Removes a specified element and raises a KeyError if the element doesn't exist.\n",
      "Discard: Removes a specified element, but does not raise an error if the element doesn't exist.\n"
     ]
    }
   ],
   "source": [
    "#Find the length of the set it_companies\n",
    "# sets\n",
    "it_companies = {'Facebook', 'Google', 'Microsoft', 'Apple', 'IBM', 'Oracle', 'Amazon'}\n",
    "A = {19, 22, 24, 20, 25, 26}\n",
    "B = {19, 22, 20, 25, 26, 24, 28, 27}\n",
    "age_Set = [22, 19, 24, 25, 26, 24, 25, 24]\n",
    "\n",
    "It_set = len(it_companies)\n",
    "print(It_set)\n",
    "\n",
    "#2Add 'Twitter' to it_companies\n",
    "IT_Copy_Co = it_companies.copy()\n",
    "print(it_companies)\n",
    "It_Companies_Update = IT_Copy_Co.add('Twitter')\n",
    "print(IT_Copy_Co)\n",
    "\n",
    "#3Insert multiple IT companies at once to the set it_companies\n",
    "\n",
    "Companies_New = {'Geo Data Solution', 'ConniSoft', 'SpaceFox'}\n",
    "#Multiple_It = IT_Copy_Co.update(['Geo Data Solution', 'ConniSoft', 'SpaceFox'])\n",
    "Multiple_It = IT_Copy_Co.update({'Geo Data Solution', 'ConniSoft', 'SpaceFox'}) #Both ({}) and ([]) will work\n",
    "print(IT_Copy_Co)\n",
    "\n",
    "#4Remove one of the companies from the set it_companies\n",
    "Remove_1_IT = IT_Copy_Co.remove('Oracle')\n",
    "print(IT_Copy_Co)\n",
    "\n",
    "#5What is the difference between remove and discard\n",
    "\n",
    "print(f\"Remove: Removes a specified element and raises a KeyError if the element doesn't exist.\\nDiscard: Removes a specified element, but does not raise an error if the element doesn't exist.\")"
   ]
  },
  {
   "cell_type": "markdown",
   "metadata": {},
   "source": [
    "### Set Exercises\n",
    "#### Set Exercises: Level 2"
   ]
  },
  {
   "cell_type": "code",
   "execution_count": 48,
   "metadata": {},
   "outputs": [
    {
     "name": "stdout",
     "output_type": "stream",
     "text": [
      "{19, 20, 22, 24, 25, 26, 27, 28}\n",
      "{19, 20, 22, 24, 25, 26}\n",
      "True\n",
      "Yes, {19, 20, 22, 24, 25, 26} is the subset of {19, 20, 22, 24, 25, 26, 27, 28}!\n",
      "False\n",
      "No, {19, 20, 22, 24, 25, 26} is not Disjoint to{19, 20, 22, 24, 25, 26, 27, 28}!\n",
      "{19, 20, 22, 24, 25, 26, 27, 28}\n",
      "{27, 28}\n",
      "{19, 20, 22, 24, 25, 26} {19, 20, 22, 24, 25, 26, 27, 28}\n",
      "This Sets A and B is not defined.\n",
      "Which means Sets A and B has been deleted with variable del!\n"
     ]
    }
   ],
   "source": [
    "#1Join A and B\n",
    "\n",
    "A_Join_B = A.union(B)\n",
    "print(A_Join_B)\n",
    "\n",
    "#2Find A intersection B\n",
    "A_Intersect_B = A.intersection(B)\n",
    "print(A_Intersect_B)\n",
    "\n",
    "#3Is A subset of B\n",
    "A_Subset_B = A.issubset(B)\n",
    "print(A_Subset_B)\n",
    "\n",
    "if  A.issubset(B):\n",
    "    print(f'Yes, {A} is the subset of {B}!')\n",
    "else:\n",
    "    print(f'No, {A} is not the subset of {B}!')\n",
    "\n",
    "#4Are A and B disjoint sets\n",
    "\n",
    "A_Subset_B_Dis = A.isdisjoint(B)\n",
    "print(A_Subset_B_Dis)\n",
    "\n",
    "if  A.isdisjoint(B):\n",
    "    print(f'Yes, {A} is Disjoint to {B}!')\n",
    "else:\n",
    "    print(f'No, {A} is not Disjoint to{B}!')\n",
    "\n",
    "#5Join A with B and B with A\n",
    "\n",
    "Join_AB = A.union(B)\n",
    "Join_BA = B.union(A)\n",
    "print(Join_AB)\n",
    "\n",
    "#5What is the symmetric difference between A and B\n",
    "\n",
    "Symmetrical_A_B = A.symmetric_difference(B)\n",
    "print(Symmetrical_A_B)\n",
    "\n",
    "#6Delete the sets completely\n",
    "Set_A_Copy = A.copy()\n",
    "Set_B_Copy = B.copy()\n",
    "print(Set_A_Copy,Set_B_Copy)\n",
    "del Set_A_Copy,Set_B_Copy\n",
    "#print(Set_A_Copy)  This \n",
    "#print(Set_A_Copy)\n",
    "print(f'This Sets A and B is not defined.\\nWhich means Sets A and B has been deleted with variable del!')"
   ]
  },
  {
   "cell_type": "markdown",
   "metadata": {},
   "source": [
    "### Set Exercises\n",
    "#### Set Exercises: Level 3"
   ]
  },
  {
   "cell_type": "code",
   "execution_count": null,
   "metadata": {},
   "outputs": [
    {
     "name": "stdout",
     "output_type": "stream",
     "text": [
      "[22, 19, 24, 25, 26, 24, 25, 24]\n",
      "{19, 22, 24, 25, 26}\n",
      "8\n",
      "5\n",
      "These indicate that the List Ages is more longer than Set because List allow dupplicate while Set allow only Unique Values!\n",
      "String: is a sequence of characters. Immutable (cannot be changed after creation) e.g \"Hello World!\"\n",
      "List: Is an ordered collection of items. Mutable (can be changed after creation) e.g List = [1,2,3,4,2,]\n",
      "Tuple: Is an ordered collection of items. Immutable e.g Tuple = (1,2,3,4,5,)\n",
      "Set: Is an unordered collection of unique items. Mutable. e.g Set = (1, 2, 3, 4, 5, 6, 6)\n",
      "['I', 'am', 'a', 'teacher', 'and', 'I', 'love', 'to', 'inspire', 'and', 'teach', 'people.']\n",
      "{'to', 'people.', 'teacher', 'I', 'and', 'teach', 'am', 'inspire', 'a', 'love'}\n",
      "10\n"
     ]
    }
   ],
   "source": [
    "#Convert the ages to a set and compare the length of the list and the set, which one is bigger?\n",
    "\n",
    "print(age_Set)\n",
    "\n",
    "age_Set_Copy = age_Set.copy()\n",
    "age_Set_Copy_to_Set = (set(age_Set_Copy))\n",
    "\n",
    "print(age_Set_Copy_to_Set)\n",
    "\n",
    "lenght_age_Set_Copy = len(age_Set_Copy)\n",
    "lenght_age_Set_Copy_to_Set = len(age_Set_Copy_to_Set)\n",
    "\n",
    "print(lenght_age_Set_Copy)\n",
    "print(lenght_age_Set_Copy_to_Set)\n",
    "print(f'These indicate that the List Ages is more longer than Set because List allow dupplicate while Set allow only Unique Values!')\n",
    "\n",
    "#Explain the difference between the following data types: string, list, tuple and set\n",
    "\n",
    "print(f'String: is a sequence of characters. Immutable (cannot be changed after creation) e.g \"Hello World!\"')\n",
    "print(f'List: Is an ordered collection of items. Mutable (can be changed after creation) e.g List = [1,2,3,4,2,]')\n",
    "print(f'Tuple: Is an ordered collection of items. Immutable e.g Tuple = (1,2,3,4,5,)')\n",
    "print(f'Set: Is an unordered collection of unique items. Mutable. e.g Set = {1,2,3,4,5,6,6}')\n",
    "\n",
    "#4I am a teacher and I love to inspire and teach people. How many unique words have been used in the sentence? Use the split methods and set to get the unique words.\n",
    "\n",
    "Sentence_Last = 'I am a teacher and I love to inspire and teach people.'\n",
    "Word_last = Sentence_Last.split()\n",
    "print(Word_last)\n",
    "Change_Word_to_Set = (set(Word_last))\n",
    "print(Change_Word_to_Set)\n",
    "Check_the_Length = len(Change_Word_to_Set)\n",
    "\n",
    "print(Check_the_Length) #But The Sentence contain 12 Word due to the conversion to Set and check using Set it popup the uniques words which are 10 "
   ]
  }
 ],
 "metadata": {
  "kernelspec": {
   "display_name": "Python 3",
   "language": "python",
   "name": "python3"
  },
  "language_info": {
   "codemirror_mode": {
    "name": "ipython",
    "version": 3
   },
   "file_extension": ".py",
   "mimetype": "text/x-python",
   "name": "python",
   "nbconvert_exporter": "python",
   "pygments_lexer": "ipython3",
   "version": "3.12.8"
  }
 },
 "nbformat": 4,
 "nbformat_minor": 2
}
